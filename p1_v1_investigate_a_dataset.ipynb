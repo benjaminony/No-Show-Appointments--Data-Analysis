{
 "cells": [
  {
   "cell_type": "markdown",
   "metadata": {},
   "source": [
    "<h2 align=\"center\">Analysis of the No-Show Appointment Dataset</h2>\n",
    "\n",
    "**Contents**\n",
    "#### <a href=\"#intro\">Introduction</a>\n",
    "#### <a href=\"#wrangling\">Data Wrangling</a>\n",
    "   * <a href=\"#properties\">General Properties</a>\n",
    "   * <a href=\"#cleaning\">Data Cleaning</a>\n",
    "#### <a href=\"#eda\">Exploratory Data Analysis</a>\n",
    "   * <a href=\"#q1\">Research Question 1</a>\n",
    "   * <a href=\"#q2\">Research Question 2</a>\n",
    "   * <a href=\"#q3\">Research Question 3</a>\n",
    "#### <a href=\"#conclusions\">Conclusions</a>"
   ]
  },
  {
   "cell_type": "markdown",
   "metadata": {},
   "source": [
    "<a id='intro'></a>\n",
    "## Introduction\n",
    "\n",
    "The dataset being analysed, contains 110,527 samples of medical appointments in Brazil. There are 14 variables. Though most variable name are self-explanatory, descriptive phrases, boolean values or both, for each variable are stated below for clarification.\n",
    "\n",
    "1. `PatientId` - identification of a patient.\n",
    "2. `AppointmentID` - identification of each appointment.\n",
    "3. `Gender` - male (M) or female (F).\n",
    "4. `ScheduledDay` - the day someone called or registered the appointment before the appointment at the hospital.\n",
    "5. `AppointmentDay` - the day of the actuall appointment, when they have to visit the doctor.\n",
    "6. `Age` - patient age.\n",
    "7. `Neighbourhood` - where the hospital is located.\n",
    "8. `Scholarship` - whether or not the patient is enrolled in Brasilian welfare program Bolsa Família.\n",
    "9. `Hipertension` - True or False.\n",
    "10. `Diabetes`  - True or False.\n",
    "11. `Alcoholism` - True or False.\n",
    "12. `Handcap` - True or False.\n",
    "13. `SMS_received` - 1 or more messages sent to the patient - True or False.\n",
    "14. `No-show` - whether the appointment was a no-show (patient did not show up) one or not - True or False.\n",
    "\n",
    "In analysing this dataset, the questions below are asked;\n",
    "* What is the impact of gender on No_show? Did any of the Gender (F/M) show up better for appoints?\n",
    "* Did Age have any impact on the making or not making of appointment by Females and Males?\n",
    "* Which neighbourhood had extreems of the No_show category Yes or No and what proportion made appointments?\n",
    "\n",
    "To answer the question above, the relationship between No_show variable as dependent variable and the listed variables below as independent variables, are explored;\n",
    "* _Dependent variable_\n",
    "    * No-show\n",
    "* _Independent variable_\n",
    "    * Gender\n",
    "    * Age\n",
    "    * Neighborhood\n"
   ]
  },
  {
   "cell_type": "code",
   "execution_count": 1,
   "metadata": {},
   "outputs": [],
   "source": [
    "# import statements for needed packages\n",
    "import numpy as np\n",
    "import pandas as pd\n",
    "import seaborn as sns\n",
    "import matplotlib.pyplot as plt\n",
    "%matplotlib inline"
   ]
  },
  {
   "cell_type": "markdown",
   "metadata": {},
   "source": [
    "<a id='wrangling'></a>\n",
    "<h2>Data Wrangling</h2>\n",
    "\n",
    "<a id='properties'></a>\n",
    "<h4>General Properties</h4>"
   ]
  },
  {
   "cell_type": "code",
   "execution_count": 2,
   "metadata": {
    "scrolled": true
   },
   "outputs": [
    {
     "data": {
      "text/html": [
       "<div>\n",
       "<style scoped>\n",
       "    .dataframe tbody tr th:only-of-type {\n",
       "        vertical-align: middle;\n",
       "    }\n",
       "\n",
       "    .dataframe tbody tr th {\n",
       "        vertical-align: top;\n",
       "    }\n",
       "\n",
       "    .dataframe thead th {\n",
       "        text-align: right;\n",
       "    }\n",
       "</style>\n",
       "<table border=\"1\" class=\"dataframe\">\n",
       "  <thead>\n",
       "    <tr style=\"text-align: right;\">\n",
       "      <th></th>\n",
       "      <th>PatientId</th>\n",
       "      <th>AppointmentID</th>\n",
       "      <th>Gender</th>\n",
       "      <th>ScheduledDay</th>\n",
       "      <th>AppointmentDay</th>\n",
       "      <th>Age</th>\n",
       "      <th>Neighbourhood</th>\n",
       "      <th>Scholarship</th>\n",
       "      <th>Hipertension</th>\n",
       "      <th>Diabetes</th>\n",
       "      <th>Alcoholism</th>\n",
       "      <th>Handcap</th>\n",
       "      <th>SMS_received</th>\n",
       "      <th>No-show</th>\n",
       "    </tr>\n",
       "  </thead>\n",
       "  <tbody>\n",
       "    <tr>\n",
       "      <th>0</th>\n",
       "      <td>2.987250e+13</td>\n",
       "      <td>5642903</td>\n",
       "      <td>F</td>\n",
       "      <td>2016-04-29T18:38:08Z</td>\n",
       "      <td>2016-04-29T00:00:00Z</td>\n",
       "      <td>62</td>\n",
       "      <td>JARDIM DA PENHA</td>\n",
       "      <td>0</td>\n",
       "      <td>1</td>\n",
       "      <td>0</td>\n",
       "      <td>0</td>\n",
       "      <td>0</td>\n",
       "      <td>0</td>\n",
       "      <td>No</td>\n",
       "    </tr>\n",
       "    <tr>\n",
       "      <th>1</th>\n",
       "      <td>5.589978e+14</td>\n",
       "      <td>5642503</td>\n",
       "      <td>M</td>\n",
       "      <td>2016-04-29T16:08:27Z</td>\n",
       "      <td>2016-04-29T00:00:00Z</td>\n",
       "      <td>56</td>\n",
       "      <td>JARDIM DA PENHA</td>\n",
       "      <td>0</td>\n",
       "      <td>0</td>\n",
       "      <td>0</td>\n",
       "      <td>0</td>\n",
       "      <td>0</td>\n",
       "      <td>0</td>\n",
       "      <td>No</td>\n",
       "    </tr>\n",
       "    <tr>\n",
       "      <th>2</th>\n",
       "      <td>4.262962e+12</td>\n",
       "      <td>5642549</td>\n",
       "      <td>F</td>\n",
       "      <td>2016-04-29T16:19:04Z</td>\n",
       "      <td>2016-04-29T00:00:00Z</td>\n",
       "      <td>62</td>\n",
       "      <td>MATA DA PRAIA</td>\n",
       "      <td>0</td>\n",
       "      <td>0</td>\n",
       "      <td>0</td>\n",
       "      <td>0</td>\n",
       "      <td>0</td>\n",
       "      <td>0</td>\n",
       "      <td>No</td>\n",
       "    </tr>\n",
       "    <tr>\n",
       "      <th>3</th>\n",
       "      <td>8.679512e+11</td>\n",
       "      <td>5642828</td>\n",
       "      <td>F</td>\n",
       "      <td>2016-04-29T17:29:31Z</td>\n",
       "      <td>2016-04-29T00:00:00Z</td>\n",
       "      <td>8</td>\n",
       "      <td>PONTAL DE CAMBURI</td>\n",
       "      <td>0</td>\n",
       "      <td>0</td>\n",
       "      <td>0</td>\n",
       "      <td>0</td>\n",
       "      <td>0</td>\n",
       "      <td>0</td>\n",
       "      <td>No</td>\n",
       "    </tr>\n",
       "    <tr>\n",
       "      <th>4</th>\n",
       "      <td>8.841186e+12</td>\n",
       "      <td>5642494</td>\n",
       "      <td>F</td>\n",
       "      <td>2016-04-29T16:07:23Z</td>\n",
       "      <td>2016-04-29T00:00:00Z</td>\n",
       "      <td>56</td>\n",
       "      <td>JARDIM DA PENHA</td>\n",
       "      <td>0</td>\n",
       "      <td>1</td>\n",
       "      <td>1</td>\n",
       "      <td>0</td>\n",
       "      <td>0</td>\n",
       "      <td>0</td>\n",
       "      <td>No</td>\n",
       "    </tr>\n",
       "  </tbody>\n",
       "</table>\n",
       "</div>"
      ],
      "text/plain": [
       "      PatientId  AppointmentID Gender          ScheduledDay  \\\n",
       "0  2.987250e+13        5642903      F  2016-04-29T18:38:08Z   \n",
       "1  5.589978e+14        5642503      M  2016-04-29T16:08:27Z   \n",
       "2  4.262962e+12        5642549      F  2016-04-29T16:19:04Z   \n",
       "3  8.679512e+11        5642828      F  2016-04-29T17:29:31Z   \n",
       "4  8.841186e+12        5642494      F  2016-04-29T16:07:23Z   \n",
       "\n",
       "         AppointmentDay  Age      Neighbourhood  Scholarship  Hipertension  \\\n",
       "0  2016-04-29T00:00:00Z   62    JARDIM DA PENHA            0             1   \n",
       "1  2016-04-29T00:00:00Z   56    JARDIM DA PENHA            0             0   \n",
       "2  2016-04-29T00:00:00Z   62      MATA DA PRAIA            0             0   \n",
       "3  2016-04-29T00:00:00Z    8  PONTAL DE CAMBURI            0             0   \n",
       "4  2016-04-29T00:00:00Z   56    JARDIM DA PENHA            0             1   \n",
       "\n",
       "   Diabetes  Alcoholism  Handcap  SMS_received No-show  \n",
       "0         0           0        0             0      No  \n",
       "1         0           0        0             0      No  \n",
       "2         0           0        0             0      No  \n",
       "3         0           0        0             0      No  \n",
       "4         1           0        0             0      No  "
      ]
     },
     "execution_count": 2,
     "metadata": {},
     "output_type": "execute_result"
    }
   ],
   "source": [
    "# Load data into dataframe and display first five rows\n",
    "df  = pd.read_csv('noshowappointments-kagglev2-may-2016.csv')\n",
    "df.head()"
   ]
  },
  {
   "cell_type": "markdown",
   "metadata": {},
   "source": [
    "An initial observation from the dataframe head, shows the column names are not in uniform, and also contain a spelling error in _\"Handcap\"_ instead of _\"Handicap\"_. These will be correted during the data cleaning process."
   ]
  },
  {
   "cell_type": "code",
   "execution_count": 3,
   "metadata": {},
   "outputs": [
    {
     "data": {
      "text/plain": [
       "(110527, 14)"
      ]
     },
     "execution_count": 3,
     "metadata": {},
     "output_type": "execute_result"
    }
   ],
   "source": [
    "# get the dimension of the data\n",
    "df.shape"
   ]
  },
  {
   "cell_type": "code",
   "execution_count": 4,
   "metadata": {},
   "outputs": [
    {
     "name": "stdout",
     "output_type": "stream",
     "text": [
      "<class 'pandas.core.frame.DataFrame'>\n",
      "RangeIndex: 110527 entries, 0 to 110526\n",
      "Data columns (total 14 columns):\n",
      " #   Column          Non-Null Count   Dtype  \n",
      "---  ------          --------------   -----  \n",
      " 0   PatientId       110527 non-null  float64\n",
      " 1   AppointmentID   110527 non-null  int64  \n",
      " 2   Gender          110527 non-null  object \n",
      " 3   ScheduledDay    110527 non-null  object \n",
      " 4   AppointmentDay  110527 non-null  object \n",
      " 5   Age             110527 non-null  int64  \n",
      " 6   Neighbourhood   110527 non-null  object \n",
      " 7   Scholarship     110527 non-null  int64  \n",
      " 8   Hipertension    110527 non-null  int64  \n",
      " 9   Diabetes        110527 non-null  int64  \n",
      " 10  Alcoholism      110527 non-null  int64  \n",
      " 11  Handcap         110527 non-null  int64  \n",
      " 12  SMS_received    110527 non-null  int64  \n",
      " 13  No-show         110527 non-null  object \n",
      "dtypes: float64(1), int64(8), object(5)\n",
      "memory usage: 11.8+ MB\n"
     ]
    }
   ],
   "source": [
    "# check properties of the feilds\n",
    "df.info();"
   ]
  },
  {
   "cell_type": "markdown",
   "metadata": {},
   "source": [
    "Apart from the PatientId field, which most likely will be dropped since we are not interested in identifying a patient, the data is made up majorly of only two data types; strings and integers.\n",
    "\n",
    "A corresponding numeric column is added to the dataframe below, to enable passing it in a correlation matrix with other dataframe variables."
   ]
  },
  {
   "cell_type": "code",
   "execution_count": 5,
   "metadata": {},
   "outputs": [
    {
     "data": {
      "text/html": [
       "<div>\n",
       "<style scoped>\n",
       "    .dataframe tbody tr th:only-of-type {\n",
       "        vertical-align: middle;\n",
       "    }\n",
       "\n",
       "    .dataframe tbody tr th {\n",
       "        vertical-align: top;\n",
       "    }\n",
       "\n",
       "    .dataframe thead th {\n",
       "        text-align: right;\n",
       "    }\n",
       "</style>\n",
       "<table border=\"1\" class=\"dataframe\">\n",
       "  <thead>\n",
       "    <tr style=\"text-align: right;\">\n",
       "      <th></th>\n",
       "      <th>PatientId</th>\n",
       "      <th>AppointmentID</th>\n",
       "      <th>Gender</th>\n",
       "      <th>ScheduledDay</th>\n",
       "      <th>AppointmentDay</th>\n",
       "      <th>Age</th>\n",
       "      <th>Neighbourhood</th>\n",
       "      <th>Scholarship</th>\n",
       "      <th>Hipertension</th>\n",
       "      <th>Diabetes</th>\n",
       "      <th>Alcoholism</th>\n",
       "      <th>Handcap</th>\n",
       "      <th>SMS_received</th>\n",
       "      <th>No-show</th>\n",
       "      <th>No_show_numeric</th>\n",
       "    </tr>\n",
       "  </thead>\n",
       "  <tbody>\n",
       "    <tr>\n",
       "      <th>0</th>\n",
       "      <td>2.987250e+13</td>\n",
       "      <td>5642903</td>\n",
       "      <td>F</td>\n",
       "      <td>2016-04-29T18:38:08Z</td>\n",
       "      <td>2016-04-29T00:00:00Z</td>\n",
       "      <td>62</td>\n",
       "      <td>JARDIM DA PENHA</td>\n",
       "      <td>0</td>\n",
       "      <td>1</td>\n",
       "      <td>0</td>\n",
       "      <td>0</td>\n",
       "      <td>0</td>\n",
       "      <td>0</td>\n",
       "      <td>No</td>\n",
       "      <td>0</td>\n",
       "    </tr>\n",
       "    <tr>\n",
       "      <th>1</th>\n",
       "      <td>5.589978e+14</td>\n",
       "      <td>5642503</td>\n",
       "      <td>M</td>\n",
       "      <td>2016-04-29T16:08:27Z</td>\n",
       "      <td>2016-04-29T00:00:00Z</td>\n",
       "      <td>56</td>\n",
       "      <td>JARDIM DA PENHA</td>\n",
       "      <td>0</td>\n",
       "      <td>0</td>\n",
       "      <td>0</td>\n",
       "      <td>0</td>\n",
       "      <td>0</td>\n",
       "      <td>0</td>\n",
       "      <td>No</td>\n",
       "      <td>0</td>\n",
       "    </tr>\n",
       "    <tr>\n",
       "      <th>2</th>\n",
       "      <td>4.262962e+12</td>\n",
       "      <td>5642549</td>\n",
       "      <td>F</td>\n",
       "      <td>2016-04-29T16:19:04Z</td>\n",
       "      <td>2016-04-29T00:00:00Z</td>\n",
       "      <td>62</td>\n",
       "      <td>MATA DA PRAIA</td>\n",
       "      <td>0</td>\n",
       "      <td>0</td>\n",
       "      <td>0</td>\n",
       "      <td>0</td>\n",
       "      <td>0</td>\n",
       "      <td>0</td>\n",
       "      <td>No</td>\n",
       "      <td>0</td>\n",
       "    </tr>\n",
       "    <tr>\n",
       "      <th>3</th>\n",
       "      <td>8.679512e+11</td>\n",
       "      <td>5642828</td>\n",
       "      <td>F</td>\n",
       "      <td>2016-04-29T17:29:31Z</td>\n",
       "      <td>2016-04-29T00:00:00Z</td>\n",
       "      <td>8</td>\n",
       "      <td>PONTAL DE CAMBURI</td>\n",
       "      <td>0</td>\n",
       "      <td>0</td>\n",
       "      <td>0</td>\n",
       "      <td>0</td>\n",
       "      <td>0</td>\n",
       "      <td>0</td>\n",
       "      <td>No</td>\n",
       "      <td>0</td>\n",
       "    </tr>\n",
       "    <tr>\n",
       "      <th>4</th>\n",
       "      <td>8.841186e+12</td>\n",
       "      <td>5642494</td>\n",
       "      <td>F</td>\n",
       "      <td>2016-04-29T16:07:23Z</td>\n",
       "      <td>2016-04-29T00:00:00Z</td>\n",
       "      <td>56</td>\n",
       "      <td>JARDIM DA PENHA</td>\n",
       "      <td>0</td>\n",
       "      <td>1</td>\n",
       "      <td>1</td>\n",
       "      <td>0</td>\n",
       "      <td>0</td>\n",
       "      <td>0</td>\n",
       "      <td>No</td>\n",
       "      <td>0</td>\n",
       "    </tr>\n",
       "  </tbody>\n",
       "</table>\n",
       "</div>"
      ],
      "text/plain": [
       "      PatientId  AppointmentID Gender          ScheduledDay  \\\n",
       "0  2.987250e+13        5642903      F  2016-04-29T18:38:08Z   \n",
       "1  5.589978e+14        5642503      M  2016-04-29T16:08:27Z   \n",
       "2  4.262962e+12        5642549      F  2016-04-29T16:19:04Z   \n",
       "3  8.679512e+11        5642828      F  2016-04-29T17:29:31Z   \n",
       "4  8.841186e+12        5642494      F  2016-04-29T16:07:23Z   \n",
       "\n",
       "         AppointmentDay  Age      Neighbourhood  Scholarship  Hipertension  \\\n",
       "0  2016-04-29T00:00:00Z   62    JARDIM DA PENHA            0             1   \n",
       "1  2016-04-29T00:00:00Z   56    JARDIM DA PENHA            0             0   \n",
       "2  2016-04-29T00:00:00Z   62      MATA DA PRAIA            0             0   \n",
       "3  2016-04-29T00:00:00Z    8  PONTAL DE CAMBURI            0             0   \n",
       "4  2016-04-29T00:00:00Z   56    JARDIM DA PENHA            0             1   \n",
       "\n",
       "   Diabetes  Alcoholism  Handcap  SMS_received No-show  No_show_numeric  \n",
       "0         0           0        0             0      No                0  \n",
       "1         0           0        0             0      No                0  \n",
       "2         0           0        0             0      No                0  \n",
       "3         0           0        0             0      No                0  \n",
       "4         1           0        0             0      No                0  "
      ]
     },
     "execution_count": 5,
     "metadata": {},
     "output_type": "execute_result"
    }
   ],
   "source": [
    "# create numeric corresponding column to No-show for correlation coefficient\n",
    "df['No_show_numeric'] = df.apply(lambda row: 1 if row['No-show'] == \"Yes\" else 0, axis=1)\n",
    "df.head()"
   ]
  },
  {
   "cell_type": "code",
   "execution_count": 6,
   "metadata": {},
   "outputs": [
    {
     "data": {
      "image/png": "[encoded data removed]",
      "text/plain": [
       "<Figure size 720x576 with 2 Axes>"
      ]
     },
     "metadata": {
      "needs_background": "light"
     },
     "output_type": "display_data"
    }
   ],
   "source": [
    "#calculate correlation  matrix\n",
    "matrix = df[['Scholarship','Hipertension','Diabetes',\n",
    "             'Alcoholism','Handcap','SMS_received','No_show_numeric']].corr()\n",
    "\n",
    "plt.figure(figsize=(10,8))\n",
    "\n",
    "mask = np.triu(np.ones_like(matrix, dtype=bool))\n",
    "\n",
    "cmap = sns.diverging_palette(250, 15, s=75, l=40, n=9,\n",
    "                             center=\"light\", as_cmap=True)\n",
    "\n",
    "sns.heatmap(matrix, mask=mask, center=0, annot=True, fmt='.2f',\n",
    "            square=True, cmap=cmap);"
   ]
  },
  {
   "cell_type": "markdown",
   "metadata": {},
   "source": [
    "Judging from the correlation matrix above, there is a moderate correlation between the Diabetes variable and Hipertension vairable. Outside that, the correlation between variables are weak and negative."
   ]
  },
  {
   "cell_type": "code",
   "execution_count": 7,
   "metadata": {},
   "outputs": [
    {
     "data": {
      "image/png": "[encoded data removed]",
      "text/plain": [
       "<Figure size 1296x648 with 12 Axes>"
      ]
     },
     "metadata": {
      "needs_background": "light"
     },
     "output_type": "display_data"
    }
   ],
   "source": [
    "# plotting the dataframe to see the spread of numeric feature variables\n",
    "df.hist(figsize=(18,9));"
   ]
  },
  {
   "cell_type": "markdown",
   "metadata": {},
   "source": [
    "By looking out the histograms above, produced from the data, it can be observed that some of the fields have errors that are difficult to make judgement about. This is because there is no information on the data collection process and what might have generated the error.\n",
    "\n",
    "The Age variable contains 3,539 rows of zero (0) in value. This could imply age is unknown or it could be the ages of babies who are not up to a year old and have appointment booked for them. Whichever it is, one cannot tell by just looking at the values."
   ]
  },
  {
   "cell_type": "code",
   "execution_count": 8,
   "metadata": {},
   "outputs": [
    {
     "data": {
      "text/plain": [
       "0    3539\n",
       "Name: Age, dtype: int64"
      ]
     },
     "execution_count": 8,
     "metadata": {},
     "output_type": "execute_result"
    }
   ],
   "source": [
    "# checking number of zero in Age column\n",
    "df.query('Age == 0')['Age'].value_counts()"
   ]
  },
  {
   "cell_type": "markdown",
   "metadata": {},
   "source": [
    "The Alcoholism column can be used to get an insight into if records having Age as zero can be considered babies alone or they include adults.\n",
    "\n",
    "One could reason, If all rows with Yes (1) in the Alcoholism column have any or some of their corresponding field in Age column as zero, there's likely a data entry error, but if there are no corresponding field in Age column having zero when Alcoholism is 1, then one can accept that zero in the Age column implies babies who are less than a year old. The reason for this check is that it is not ethically or medically possible that babies who are not up to one year of age can suffer [alchoholism](https://en.wikipedia.org/wiki/Alcoholism) and as an effect not show up for a medical appointment."
   ]
  },
  {
   "cell_type": "code",
   "execution_count": 9,
   "metadata": {},
   "outputs": [
    {
     "data": {
      "text/plain": [
       "3539"
      ]
     },
     "execution_count": 9,
     "metadata": {},
     "output_type": "execute_result"
    }
   ],
   "source": [
    "# get number of records where Alcoholism is No and Age is zero\n",
    "df.query('Alcoholism == 0 & Age == 0').shape[0]"
   ]
  },
  {
   "cell_type": "code",
   "execution_count": 10,
   "metadata": {},
   "outputs": [
    {
     "data": {
      "text/plain": [
       "0"
      ]
     },
     "execution_count": 10,
     "metadata": {},
     "output_type": "execute_result"
    }
   ],
   "source": [
    "# get number of records where Alcoholism is Yes and Age is zero\n",
    "df.query('Alcoholism == 1 & Age == 0').shape[0]"
   ]
  },
  {
   "cell_type": "markdown",
   "metadata": {},
   "source": [
    "From the check above, all records having Age as zero, do not correspond with records having Alchoholism as yes (1). So it's more likely the zero in Age column represent babies who are not up to a year old. Hence, more useful to make use of these values as they are when considering the Age vairable for analysis, rather than replacing them with the mean of the column as an alternative."
   ]
  },
  {
   "cell_type": "code",
   "execution_count": 11,
   "metadata": {},
   "outputs": [
    {
     "data": {
      "text/plain": [
       "-1    1\n",
       "Name: Age, dtype: int64"
      ]
     },
     "execution_count": 11,
     "metadata": {},
     "output_type": "execute_result"
    }
   ],
   "source": [
    "# check for rows with negative age\n",
    "df.query('Age < 0')['Age'].value_counts()"
   ]
  },
  {
   "cell_type": "markdown",
   "metadata": {},
   "source": [
    "There is only a record with negative age. The row containing this record will be dropped during the data cleaning process."
   ]
  },
  {
   "cell_type": "markdown",
   "metadata": {},
   "source": [
    "In the dataset description online at Kaggle.com, `Handcap` variable is stated to have True (1) or False (0) values but from the histogram, it can be observed that there are other values. Calling the unique function on the `Age` column as done below, confirms the column contains five unique values ranging from 0 to 4. This makes this variable unreliable and a column to drop."
   ]
  },
  {
   "cell_type": "code",
   "execution_count": 12,
   "metadata": {},
   "outputs": [
    {
     "data": {
      "text/plain": [
       "array([0, 1, 2, 3, 4], dtype=int64)"
      ]
     },
     "execution_count": 12,
     "metadata": {},
     "output_type": "execute_result"
    }
   ],
   "source": [
    "# checking Handcap column unique values\n",
    "df['Handcap'].unique()"
   ]
  },
  {
   "cell_type": "code",
   "execution_count": 13,
   "metadata": {},
   "outputs": [
    {
     "data": {
      "text/html": [
       "<div>\n",
       "<style scoped>\n",
       "    .dataframe tbody tr th:only-of-type {\n",
       "        vertical-align: middle;\n",
       "    }\n",
       "\n",
       "    .dataframe tbody tr th {\n",
       "        vertical-align: top;\n",
       "    }\n",
       "\n",
       "    .dataframe thead th {\n",
       "        text-align: right;\n",
       "    }\n",
       "</style>\n",
       "<table border=\"1\" class=\"dataframe\">\n",
       "  <thead>\n",
       "    <tr style=\"text-align: right;\">\n",
       "      <th></th>\n",
       "      <th>PatientId</th>\n",
       "      <th>AppointmentID</th>\n",
       "      <th>Age</th>\n",
       "      <th>Scholarship</th>\n",
       "      <th>Hipertension</th>\n",
       "      <th>Diabetes</th>\n",
       "      <th>Alcoholism</th>\n",
       "      <th>Handcap</th>\n",
       "      <th>SMS_received</th>\n",
       "      <th>No_show_numeric</th>\n",
       "    </tr>\n",
       "  </thead>\n",
       "  <tbody>\n",
       "    <tr>\n",
       "      <th>count</th>\n",
       "      <td>1.105270e+05</td>\n",
       "      <td>1.105270e+05</td>\n",
       "      <td>110527.000000</td>\n",
       "      <td>110527.000000</td>\n",
       "      <td>110527.000000</td>\n",
       "      <td>110527.000000</td>\n",
       "      <td>110527.000000</td>\n",
       "      <td>110527.000000</td>\n",
       "      <td>110527.000000</td>\n",
       "      <td>110527.000000</td>\n",
       "    </tr>\n",
       "    <tr>\n",
       "      <th>mean</th>\n",
       "      <td>1.474963e+14</td>\n",
       "      <td>5.675305e+06</td>\n",
       "      <td>37.088874</td>\n",
       "      <td>0.098266</td>\n",
       "      <td>0.197246</td>\n",
       "      <td>0.071865</td>\n",
       "      <td>0.030400</td>\n",
       "      <td>0.022248</td>\n",
       "      <td>0.321026</td>\n",
       "      <td>0.201933</td>\n",
       "    </tr>\n",
       "    <tr>\n",
       "      <th>std</th>\n",
       "      <td>2.560949e+14</td>\n",
       "      <td>7.129575e+04</td>\n",
       "      <td>23.110205</td>\n",
       "      <td>0.297675</td>\n",
       "      <td>0.397921</td>\n",
       "      <td>0.258265</td>\n",
       "      <td>0.171686</td>\n",
       "      <td>0.161543</td>\n",
       "      <td>0.466873</td>\n",
       "      <td>0.401444</td>\n",
       "    </tr>\n",
       "    <tr>\n",
       "      <th>min</th>\n",
       "      <td>3.921784e+04</td>\n",
       "      <td>5.030230e+06</td>\n",
       "      <td>-1.000000</td>\n",
       "      <td>0.000000</td>\n",
       "      <td>0.000000</td>\n",
       "      <td>0.000000</td>\n",
       "      <td>0.000000</td>\n",
       "      <td>0.000000</td>\n",
       "      <td>0.000000</td>\n",
       "      <td>0.000000</td>\n",
       "    </tr>\n",
       "    <tr>\n",
       "      <th>25%</th>\n",
       "      <td>4.172614e+12</td>\n",
       "      <td>5.640286e+06</td>\n",
       "      <td>18.000000</td>\n",
       "      <td>0.000000</td>\n",
       "      <td>0.000000</td>\n",
       "      <td>0.000000</td>\n",
       "      <td>0.000000</td>\n",
       "      <td>0.000000</td>\n",
       "      <td>0.000000</td>\n",
       "      <td>0.000000</td>\n",
       "    </tr>\n",
       "    <tr>\n",
       "      <th>50%</th>\n",
       "      <td>3.173184e+13</td>\n",
       "      <td>5.680573e+06</td>\n",
       "      <td>37.000000</td>\n",
       "      <td>0.000000</td>\n",
       "      <td>0.000000</td>\n",
       "      <td>0.000000</td>\n",
       "      <td>0.000000</td>\n",
       "      <td>0.000000</td>\n",
       "      <td>0.000000</td>\n",
       "      <td>0.000000</td>\n",
       "    </tr>\n",
       "    <tr>\n",
       "      <th>75%</th>\n",
       "      <td>9.439172e+13</td>\n",
       "      <td>5.725524e+06</td>\n",
       "      <td>55.000000</td>\n",
       "      <td>0.000000</td>\n",
       "      <td>0.000000</td>\n",
       "      <td>0.000000</td>\n",
       "      <td>0.000000</td>\n",
       "      <td>0.000000</td>\n",
       "      <td>1.000000</td>\n",
       "      <td>0.000000</td>\n",
       "    </tr>\n",
       "    <tr>\n",
       "      <th>max</th>\n",
       "      <td>9.999816e+14</td>\n",
       "      <td>5.790484e+06</td>\n",
       "      <td>115.000000</td>\n",
       "      <td>1.000000</td>\n",
       "      <td>1.000000</td>\n",
       "      <td>1.000000</td>\n",
       "      <td>1.000000</td>\n",
       "      <td>4.000000</td>\n",
       "      <td>1.000000</td>\n",
       "      <td>1.000000</td>\n",
       "    </tr>\n",
       "  </tbody>\n",
       "</table>\n",
       "</div>"
      ],
      "text/plain": [
       "          PatientId  AppointmentID            Age    Scholarship  \\\n",
       "count  1.105270e+05   1.105270e+05  110527.000000  110527.000000   \n",
       "mean   1.474963e+14   5.675305e+06      37.088874       0.098266   \n",
       "std    2.560949e+14   7.129575e+04      23.110205       0.297675   \n",
       "min    3.921784e+04   5.030230e+06      -1.000000       0.000000   \n",
       "25%    4.172614e+12   5.640286e+06      18.000000       0.000000   \n",
       "50%    3.173184e+13   5.680573e+06      37.000000       0.000000   \n",
       "75%    9.439172e+13   5.725524e+06      55.000000       0.000000   \n",
       "max    9.999816e+14   5.790484e+06     115.000000       1.000000   \n",
       "\n",
       "        Hipertension       Diabetes     Alcoholism        Handcap  \\\n",
       "count  110527.000000  110527.000000  110527.000000  110527.000000   \n",
       "mean        0.197246       0.071865       0.030400       0.022248   \n",
       "std         0.397921       0.258265       0.171686       0.161543   \n",
       "min         0.000000       0.000000       0.000000       0.000000   \n",
       "25%         0.000000       0.000000       0.000000       0.000000   \n",
       "50%         0.000000       0.000000       0.000000       0.000000   \n",
       "75%         0.000000       0.000000       0.000000       0.000000   \n",
       "max         1.000000       1.000000       1.000000       4.000000   \n",
       "\n",
       "        SMS_received  No_show_numeric  \n",
       "count  110527.000000    110527.000000  \n",
       "mean        0.321026         0.201933  \n",
       "std         0.466873         0.401444  \n",
       "min         0.000000         0.000000  \n",
       "25%         0.000000         0.000000  \n",
       "50%         0.000000         0.000000  \n",
       "75%         1.000000         0.000000  \n",
       "max         1.000000         1.000000  "
      ]
     },
     "execution_count": 13,
     "metadata": {},
     "output_type": "execute_result"
    }
   ],
   "source": [
    "# get a statiscal description of the data\n",
    "df.describe()"
   ]
  },
  {
   "cell_type": "code",
   "execution_count": 14,
   "metadata": {},
   "outputs": [
    {
     "data": {
      "text/plain": [
       "PatientId          0\n",
       "AppointmentID      0\n",
       "Gender             0\n",
       "ScheduledDay       0\n",
       "AppointmentDay     0\n",
       "Age                0\n",
       "Neighbourhood      0\n",
       "Scholarship        0\n",
       "Hipertension       0\n",
       "Diabetes           0\n",
       "Alcoholism         0\n",
       "Handcap            0\n",
       "SMS_received       0\n",
       "No-show            0\n",
       "No_show_numeric    0\n",
       "dtype: int64"
      ]
     },
     "execution_count": 14,
     "metadata": {},
     "output_type": "execute_result"
    }
   ],
   "source": [
    "# check for number of missing items\n",
    "df.isna().sum()"
   ]
  },
  {
   "cell_type": "markdown",
   "metadata": {},
   "source": [
    "The check above indicates that there are no missing values in the data. A check for duplicated rows in the data is done below."
   ]
  },
  {
   "cell_type": "code",
   "execution_count": 15,
   "metadata": {},
   "outputs": [
    {
     "data": {
      "text/plain": [
       "0"
      ]
     },
     "execution_count": 15,
     "metadata": {},
     "output_type": "execute_result"
    }
   ],
   "source": [
    "# ceheck for duplicated rows\n",
    "sum(df.duplicated())"
   ]
  },
  {
   "cell_type": "markdown",
   "metadata": {},
   "source": [
    "Check indicates there are no duplicate columns. This implies each sample is a unique hospital appointment. To further confirm this, a duplicate check on the appointment column alone, is done below. An output of zero implies all samples are unique appointments."
   ]
  },
  {
   "cell_type": "code",
   "execution_count": 16,
   "metadata": {},
   "outputs": [
    {
     "data": {
      "text/plain": [
       "0"
      ]
     },
     "execution_count": 16,
     "metadata": {},
     "output_type": "execute_result"
    }
   ],
   "source": [
    "sum(df[['AppointmentID']].duplicated())"
   ]
  },
  {
   "cell_type": "markdown",
   "metadata": {},
   "source": [
    "<a id='cleaning'></a>\n",
    "#### Data Cleaning"
   ]
  },
  {
   "cell_type": "markdown",
   "metadata": {},
   "source": [
    "To begin cleaning, some column names are renamed to reflect a uniform name format."
   ]
  },
  {
   "cell_type": "code",
   "execution_count": 17,
   "metadata": {},
   "outputs": [
    {
     "data": {
      "text/plain": [
       "array(['PatientId', 'AppointmentId', 'Gender', 'ScheduledDay',\n",
       "       'AppointmentDay', 'Age', 'Neighbourhood', 'Scholarship',\n",
       "       'Hypertension', 'Diabetes', 'Alcoholism', 'Handcap',\n",
       "       'SMS_received', 'No_show', 'No_show_numeric'], dtype=object)"
      ]
     },
     "execution_count": 17,
     "metadata": {},
     "output_type": "execute_result"
    }
   ],
   "source": [
    "# column rename for uniformity\n",
    "df.rename(columns = {'AppointmentID':'AppointmentId', 'Hipertension':'Hypertension',\n",
    "                     'No-show':'No_show'}, inplace = True)\n",
    "df.columns.values"
   ]
  },
  {
   "cell_type": "markdown",
   "metadata": {},
   "source": [
    "Since we are not interested in patient identity, the PatientId column will be droped. The Handcap column will also be dropped due to values not coreesponding to the dataset description for the variable."
   ]
  },
  {
   "cell_type": "code",
   "execution_count": 18,
   "metadata": {},
   "outputs": [
    {
     "data": {
      "text/html": [
       "<div>\n",
       "<style scoped>\n",
       "    .dataframe tbody tr th:only-of-type {\n",
       "        vertical-align: middle;\n",
       "    }\n",
       "\n",
       "    .dataframe tbody tr th {\n",
       "        vertical-align: top;\n",
       "    }\n",
       "\n",
       "    .dataframe thead th {\n",
       "        text-align: right;\n",
       "    }\n",
       "</style>\n",
       "<table border=\"1\" class=\"dataframe\">\n",
       "  <thead>\n",
       "    <tr style=\"text-align: right;\">\n",
       "      <th></th>\n",
       "      <th>AppointmentId</th>\n",
       "      <th>Gender</th>\n",
       "      <th>ScheduledDay</th>\n",
       "      <th>AppointmentDay</th>\n",
       "      <th>Age</th>\n",
       "      <th>Neighbourhood</th>\n",
       "      <th>Scholarship</th>\n",
       "      <th>Hypertension</th>\n",
       "      <th>Diabetes</th>\n",
       "      <th>Alcoholism</th>\n",
       "      <th>SMS_received</th>\n",
       "      <th>No_show</th>\n",
       "    </tr>\n",
       "  </thead>\n",
       "  <tbody>\n",
       "    <tr>\n",
       "      <th>0</th>\n",
       "      <td>5642903</td>\n",
       "      <td>F</td>\n",
       "      <td>2016-04-29T18:38:08Z</td>\n",
       "      <td>2016-04-29T00:00:00Z</td>\n",
       "      <td>62</td>\n",
       "      <td>JARDIM DA PENHA</td>\n",
       "      <td>0</td>\n",
       "      <td>1</td>\n",
       "      <td>0</td>\n",
       "      <td>0</td>\n",
       "      <td>0</td>\n",
       "      <td>No</td>\n",
       "    </tr>\n",
       "  </tbody>\n",
       "</table>\n",
       "</div>"
      ],
      "text/plain": [
       "   AppointmentId Gender          ScheduledDay        AppointmentDay  Age  \\\n",
       "0        5642903      F  2016-04-29T18:38:08Z  2016-04-29T00:00:00Z   62   \n",
       "\n",
       "     Neighbourhood  Scholarship  Hypertension  Diabetes  Alcoholism  \\\n",
       "0  JARDIM DA PENHA            0             1         0           0   \n",
       "\n",
       "   SMS_received No_show  \n",
       "0             0      No  "
      ]
     },
     "execution_count": 18,
     "metadata": {},
     "output_type": "execute_result"
    }
   ],
   "source": [
    "df.drop(columns=['PatientId','Handcap','No_show_numeric'], inplace=True)\n",
    "df.head(1)"
   ]
  },
  {
   "cell_type": "code",
   "execution_count": 19,
   "metadata": {},
   "outputs": [],
   "source": [
    "# get index of row with negative age value\n",
    "neg_age_idx = df.query('Age < 0').index\n",
    "\n",
    "# drop rows with negative Age value\n",
    "df.drop(index=neg_age_idx, inplace=True)"
   ]
  },
  {
   "cell_type": "markdown",
   "metadata": {},
   "source": [
    "<a id='eda'></a>\n",
    "## Exploratory Data Analysis\n",
    "\n",
    "<a id='q1'></a>\n",
    "#### Research Question 1  - What is the impact of gender on No_show? Did any of the Gender (F/M) show up better for appointments?"
   ]
  },
  {
   "cell_type": "code",
   "execution_count": 20,
   "metadata": {},
   "outputs": [
    {
     "data": {
      "image/png": "[encoded data removed]",
      "text/plain": [
       "<Figure size 432x288 with 1 Axes>"
      ]
     },
     "metadata": {
      "needs_background": "light"
     },
     "output_type": "display_data"
    }
   ],
   "source": [
    "# plot both categories that showed up for appoitment, by Gender\n",
    "df.query('No_show == \"No\"')['Gender'].value_counts().plot.bar(alpha=0.5)\n",
    "df.query('No_show == \"Yes\"')['Gender'].value_counts().plot.bar(alpha=0.5);"
   ]
  },
  {
   "cell_type": "markdown",
   "metadata": {},
   "source": [
    "From the plot above, it seemed greater females showed up for their appointment in comparison to their male counterpart. Also, more females did not show up in comparison to males. This accounts for greater number of females than males in the dataset. To better understand this pattern, their proportions are considered below."
   ]
  },
  {
   "cell_type": "code",
   "execution_count": 21,
   "metadata": {},
   "outputs": [],
   "source": [
    "# total number of No_show (No) males\n",
    "total_males = df.query('Gender == \"M\"')['Gender'].value_counts().values[0]\n",
    "\n",
    "# number of No_show (No) males\n",
    "show_males = df.query('No_show == \"No\" & Gender == \"M\"')['Gender'].value_counts().values[0]\n",
    "\n",
    "# proportion of No_show (No) males\n",
    "prop_males = (show_males / total_males) * 100"
   ]
  },
  {
   "cell_type": "code",
   "execution_count": 22,
   "metadata": {},
   "outputs": [],
   "source": [
    "# total number of No_show (No) females\n",
    "total_females = df.query('Gender == \"F\"')['Gender'].value_counts().values[0]\n",
    "\n",
    "# number of No_show (No) females\n",
    "show_females = df.query('No_show == \"No\" & Gender == \"F\"')['Gender'].value_counts().values[0]\n",
    "\n",
    "# proportion of No_show (No) females\n",
    "prop_females = (show_females / total_females) * 100"
   ]
  },
  {
   "cell_type": "markdown",
   "metadata": {},
   "source": [
    "Before plotting the first chart below with pyplot, a function is created to label the axis (x and y) and add diagram title to every plot henceforth. This is done for good coding practice."
   ]
  },
  {
   "cell_type": "code",
   "execution_count": 23,
   "metadata": {},
   "outputs": [],
   "source": [
    "def label(x, y, t):\n",
    "    \"\"\"\n",
    "    Function labels the x and y axis, and the diagram title of a pyplot chart\n",
    "\n",
    "    Args:\n",
    "    x: (str): x-axis title\n",
    "    y: (str): y-axis title\n",
    "    t: (str): Diagram title\n",
    "\n",
    "    Returns:\n",
    "    None\n",
    "    \"\"\"\n",
    "\n",
    "    plt.xlabel(x)\n",
    "    plt.ylabel(y)\n",
    "    plt.title(t)\n",
    "    plt.show()"
   ]
  },
  {
   "cell_type": "code",
   "execution_count": 24,
   "metadata": {},
   "outputs": [
    {
     "data": {
      "image/png": "[encoded data removed]",
      "text/plain": [
       "<Figure size 432x288 with 1 Axes>"
      ]
     },
     "metadata": {
      "needs_background": "light"
     },
     "output_type": "display_data"
    }
   ],
   "source": [
    "# concantenate values with labels\n",
    "male_label = 'males ' + round(prop_males, 2).astype(str) + '%'\n",
    "female_label = 'females ' + round(prop_females, 2).astype(str) + '%'\n",
    "\n",
    "# plot proportion of No_show (No) female vs male\n",
    "plt.bar([1, 2], [prop_males, prop_females],\n",
    "        tick_label=[male_label, female_label])\n",
    "label(\"Gender proportion\", \"No_show (No) Proportion\",\n",
    "      \"Proportion of Males and Females who Showed up for Appointment\")"
   ]
  },
  {
   "cell_type": "markdown",
   "metadata": {},
   "source": [
    "From the plot above, it can be seen that more males showed up for their appointments, compared to females. A plot of the proportion of those who did not show up, done below, corresponds."
   ]
  },
  {
   "cell_type": "code",
   "execution_count": 25,
   "metadata": {},
   "outputs": [
    {
     "data": {
      "image/png": "[encoded data removed]",
      "text/plain": [
       "<Figure size 432x288 with 1 Axes>"
      ]
     },
     "metadata": {
      "needs_background": "light"
     },
     "output_type": "display_data"
    }
   ],
   "source": [
    "# number of No_show (Yes) males\n",
    "no_show_males = df.query('No_show == \"Yes\" & Gender == \"M\"')['Gender'].value_counts().values[0]\n",
    "\n",
    "# proportion of No_show (Yes) males\n",
    "prop_males = (no_show_males / total_males) * 100\n",
    "\n",
    "# number of No_show (Yes) females\n",
    "no_show_females = df.query('No_show == \"Yes\" & Gender == \"F\"')['Gender'].value_counts().values[0]\n",
    "\n",
    "# proportion of No_show (Yes) females\n",
    "prop_females = (no_show_females / total_females) * 100\n",
    "\n",
    "# concantenate values with labels\n",
    "male_label = 'males ' + round(prop_males, 2).astype(str) + '%'\n",
    "female_label = 'females ' + round(prop_females, 2).astype(str) + '%'\n",
    "\n",
    "# plot proportion of No_show (Yes) female vs male\n",
    "plt.bar([1, 2], [prop_males, prop_females],\n",
    "        tick_label=[male_label, female_label])\n",
    "label(\"Gender proportion\", \"No_show (Yes) Proportion\",\n",
    "      \"Proportion of Males and Females who did not show up for Appointment\")"
   ]
  },
  {
   "cell_type": "markdown",
   "metadata": {},
   "source": [
    "<a id='q2'></a>\n",
    "#### Research Question 2 - Did Age have any impact on the making or not making appointment by Females and Males?"
   ]
  },
  {
   "cell_type": "code",
   "execution_count": 26,
   "metadata": {},
   "outputs": [
    {
     "data": {
      "image/png": "[encoded data removed]",
      "text/plain": [
       "<Figure size 576x432 with 1 Axes>"
      ]
     },
     "metadata": {
      "needs_background": "light"
     },
     "output_type": "display_data"
    }
   ],
   "source": [
    "# distribution plot of No_show Yes and No for the Age coloumn\n",
    "fig, ax = plt.subplots(figsize=(8,6))\n",
    "ax.hist(df.query('No_show == \"Yes\"').Age, alpha=0.6, label='No_show (Yes)')\n",
    "ax.hist(df.query('No_show == \"No\"').Age, alpha=0.4, label='No_show (No)')\n",
    "ax.set_title('No-show Yes and No for Age')\n",
    "ax.set_xlabel('Age')\n",
    "ax.set_ylabel('Frequency')\n",
    "ax.legend(loc='center right');"
   ]
  },
  {
   "cell_type": "markdown",
   "metadata": {},
   "source": [
    "From the chart above, one could see that the ages of those who showed up for their appointment at the hospital are quite similarly distributed to the ages of those who did not show up for thier appointments. The plot also shows that a greater number showed up for thier appointment.\n",
    "\n",
    "A comparison is futher done below to understand the average age of males and females who showed up and those who did not show up, with general average age of both gender in the different situation."
   ]
  },
  {
   "cell_type": "code",
   "execution_count": 27,
   "metadata": {},
   "outputs": [
    {
     "data": {
      "image/png": "[encoded data removed]",
      "text/plain": [
       "<Figure size 432x288 with 1 Axes>"
      ]
     },
     "metadata": {
      "needs_background": "light"
     },
     "output_type": "display_data"
    }
   ],
   "source": [
    "# average age of those who showed up i.e., No-show (No)\n",
    "avg_age_show = df.query('No_show == \"No\"').Age.mean()\n",
    "\n",
    "# average age of males who showed up\n",
    "avg_age_show_m = df.query('No_show == \"No\" & Gender == \"M\"').Age.mean()\n",
    "\n",
    "# average age of females who showed up\n",
    "avg_age_show_f = df.query('No_show == \"No\" & Gender == \"F\"').Age.mean()\n",
    "\n",
    "# plot bar chart of all three categories above\n",
    "plt.bar([1, 2, 3], [avg_age_show, avg_age_show_m, avg_age_show_f],\n",
    "        tick_label=['Both', 'Avg_Males', 'Avg_Females'])\n",
    "label(\"\", \"Average Show Up\", \"Average No_show (No) for Both, Males and Females\")"
   ]
  },
  {
   "cell_type": "markdown",
   "metadata": {},
   "source": [
    "The plot above indicates, the average age of males who made thier appointments is lower the average age of females who made their appointments. This implies, younger males than females made their appointment."
   ]
  },
  {
   "cell_type": "code",
   "execution_count": 28,
   "metadata": {},
   "outputs": [
    {
     "data": {
      "image/png": "[encoded data removed]",
      "text/plain": [
       "<Figure size 432x288 with 1 Axes>"
      ]
     },
     "metadata": {
      "needs_background": "light"
     },
     "output_type": "display_data"
    }
   ],
   "source": [
    "# average age of those who did not show up i.e., No-show (Yes)\n",
    "avg_age_no_show = df.query('No_show == \"Yes\"').Age.mean()\n",
    "\n",
    "# average age of males who did not show up\n",
    "avg_age_no_show_m = df.query('No_show == \"Yes\" & Gender == \"M\"').Age.mean()\n",
    "\n",
    "# average age of females who did not show up\n",
    "avg_age_no_show_f = df.query('No_show == \"Yes\" & Gender == \"F\"').Age.mean()\n",
    "\n",
    "# plot bar chart of all three categories above\n",
    "plt.bar([1, 2, 3], [avg_age_no_show, avg_age_no_show_m, avg_age_no_show_f],\n",
    "        tick_label=['Both', 'Avg_Males', 'Avg_Females'])\n",
    "label(\"\", \"Average No_Show (Yes)\", \"Average No_show (Yes) for Both, Males and Females\")"
   ]
  },
  {
   "cell_type": "markdown",
   "metadata": {},
   "source": [
    "Comparing the plot above with the one before it, it appears the males who were booked for appointments at the hospital are generally younger than the females booked for appointment. This is because, on both diagrams, it can be seen that the average age of males is lower than that of females for both category (No_show Yes and No)."
   ]
  },
  {
   "cell_type": "markdown",
   "metadata": {},
   "source": [
    "<a id='q3'></a>\n",
    "#### Research Question 3 - Which neighbourhood had extreems of the No_show category Yes or No and what proportion made appointments?"
   ]
  },
  {
   "cell_type": "markdown",
   "metadata": {},
   "source": [
    "This question considers the impact of the neighborhood variable on No-show from the point of showing up for appointmnets. To answer this question, it will be useful to know the number of neighbourhoods in the data."
   ]
  },
  {
   "cell_type": "code",
   "execution_count": 29,
   "metadata": {},
   "outputs": [
    {
     "data": {
      "text/plain": [
       "81"
      ]
     },
     "execution_count": 29,
     "metadata": {},
     "output_type": "execute_result"
    }
   ],
   "source": [
    "# get the number of unique values in the neighbouhood column\n",
    "df.Neighbourhood.nunique()"
   ]
  },
  {
   "cell_type": "markdown",
   "metadata": {},
   "source": [
    "There are 81 neighbourhoods in the dataset. Due to the large number of neighborhood, the No_show categories (Yes/No) will be grouped according to neighborhood variable, and then the neighborhoods where the highest and lowest values fall and category (Yes/No) will be selected."
   ]
  },
  {
   "cell_type": "code",
   "execution_count": 30,
   "metadata": {},
   "outputs": [
    {
     "data": {
      "text/plain": [
       "('JARDIM CAMBURI', 'No')"
      ]
     },
     "execution_count": 30,
     "metadata": {},
     "output_type": "execute_result"
    }
   ],
   "source": [
    "# get Neighbourhood and No_show category with maximum value\n",
    "df.groupby('Neighbourhood')['No_show'].value_counts().idxmax()"
   ]
  },
  {
   "cell_type": "code",
   "execution_count": 31,
   "metadata": {},
   "outputs": [
    {
     "data": {
      "text/plain": [
       "81.01593883633537"
      ]
     },
     "execution_count": 31,
     "metadata": {},
     "output_type": "execute_result"
    }
   ],
   "source": [
    "# calcultate proportion of appointments that where showed up for\n",
    "df_jardim = df.query('Neighbourhood == \"JARDIM CAMBURI\"')\n",
    "jardim_show = df_jardim.query('No_show == \"No\"').No_show.value_counts()[0].astype(int)\n",
    "jardim_no_show = df_jardim.query('No_show == \"Yes\"').No_show.value_counts()[0].astype(int)\n",
    "jardim_prop_show = (jardim_show / (jardim_show + jardim_no_show)) * 100\n",
    "jardim_prop_show"
   ]
  },
  {
   "cell_type": "code",
   "execution_count": 32,
   "metadata": {},
   "outputs": [
    {
     "data": {
      "image/png": "[encoded data removed]",
      "text/plain": [
       "<Figure size 432x288 with 1 Axes>"
      ]
     },
     "metadata": {
      "needs_background": "light"
     },
     "output_type": "display_data"
    }
   ],
   "source": [
    "# plot JARDIM CAMBURI No_show totals\n",
    "No_label = 'No - ' + jardim_show.astype(str)\n",
    "Yes_label = 'Yes - ' + jardim_no_show.astype(str)\n",
    "\n",
    "plt.bar([1, 2], [jardim_show, jardim_no_show],\n",
    "        tick_label=[No_label, Yes_label])\n",
    "label(\"\", \"Total\", \"JARDIM CAMBURI No_show\")"
   ]
  },
  {
   "cell_type": "markdown",
   "metadata": {},
   "source": [
    "The maximum number from the groupings by neighborhood came from JARDIM CAMBURI neighborhood, and it was a No_show No category. Interestingly, the proportion of those who made appointments in the JARDIM CAMBURI neighborhood was 81.02%."
   ]
  },
  {
   "cell_type": "code",
   "execution_count": 33,
   "metadata": {},
   "outputs": [
    {
     "data": {
      "text/plain": [
       "('AEROPORTO', 'Yes')"
      ]
     },
     "execution_count": 33,
     "metadata": {},
     "output_type": "execute_result"
    }
   ],
   "source": [
    "# get Neighbourhood and No_show category with minimum value\n",
    "df.groupby('Neighbourhood')['No_show'].value_counts().idxmin()"
   ]
  },
  {
   "cell_type": "code",
   "execution_count": 34,
   "metadata": {},
   "outputs": [
    {
     "data": {
      "text/plain": [
       "87.5"
      ]
     },
     "execution_count": 34,
     "metadata": {},
     "output_type": "execute_result"
    }
   ],
   "source": [
    "# calcultate proportion of appointments that where showed for\n",
    "df_aeroporto = df.query('Neighbourhood == \"AEROPORTO\"')\n",
    "aeroporto_show = df_aeroporto.query('No_show == \"No\"').No_show.value_counts()[0].astype(int)\n",
    "aeroporto_no_show = df_aeroporto.query('No_show == \"Yes\"').No_show.value_counts()[0].astype(int)\n",
    "aeroporto_prop_show = (aeroporto_show / (aeroporto_show + aeroporto_no_show)) * 100\n",
    "aeroporto_prop_show"
   ]
  },
  {
   "cell_type": "code",
   "execution_count": 35,
   "metadata": {},
   "outputs": [
    {
     "data": {
      "image/png": "[encoded data removed]",
      "text/plain": [
       "<Figure size 432x288 with 1 Axes>"
      ]
     },
     "metadata": {
      "needs_background": "light"
     },
     "output_type": "display_data"
    }
   ],
   "source": [
    "# plot AEROPORTO No_show totals\n",
    "No_label = 'No - ' + aeroporto_show.astype(str)\n",
    "Yes_label = 'Yes - ' + aeroporto_no_show.astype(str)\n",
    "\n",
    "plt.bar([1, 2], [aeroporto_show, aeroporto_no_show],\n",
    "        tick_label=[No_label, Yes_label])\n",
    "label(\"\", \"Total\", \"AEROPORTO No_show\")"
   ]
  },
  {
   "cell_type": "markdown",
   "metadata": {},
   "source": [
    "The minimum number from the groupings by neighborhood came from AEROPORTO neighborhood, and it was a No_show Yes category. The proportion of those who made appointments in the JARDIM CAMBURI neighborhood was 87.5%."
   ]
  },
  {
   "cell_type": "markdown",
   "metadata": {},
   "source": [
    "<a id='conclusions'></a>\n",
    "## Conclusions"
   ]
  },
  {
   "cell_type": "markdown",
   "metadata": {},
   "source": [
    "This analysis of the No_show Appointment dataset, looked into the questions: What is the impact of gender on No_show? Did any of the Gender (F/M) show up better for appoints? Did Age have any impact on the making or not making of appointment by Females and Males? and Which neighbourhood had extreems of the No_show category Yes or No and what proportion made appointments?\n",
    "\n",
    "The observations are as follows;\n",
    "\n",
    "Males turn up better for appointment and were more younger than females who did so although, the dataset seem to contain more younger males than females.\n",
    "\n",
    "The neighbohoods where the hospitals are located seem not to matter since the neighborhoods with lowest no-show and that with highest attendance both had proportionally high attendance to appointment.\n",
    "\n",
    "The analysis done is not inferential since no statistical tests were conducted. There are other variables that need to be looked into in regards to their relationship with the target variable No-show. Also more questions that can be asked and analysed.\n"
   ]
  }
 ],
 "metadata": {
  "kernelspec": {
   "display_name": "Python 3 (ipykernel)",
   "language": "python",
   "name": "python3"
  },
  "language_info": {
   "codemirror_mode": {
    "name": "ipython",
    "version": 3
   },
   "file_extension": ".py",
   "mimetype": "text/x-python",
   "name": "python",
   "nbconvert_exporter": "python",
   "pygments_lexer": "ipython3",
   "version": "3.9.12"
  }
 },
 "nbformat": 4,
 "nbformat_minor": 4
}
